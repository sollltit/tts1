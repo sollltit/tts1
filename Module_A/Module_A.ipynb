{
 "cells": [
  {
   "cell_type": "code",
   "execution_count": 41,
   "metadata": {},
   "outputs": [],
   "source": [
    "# TODO\n",
    "\n",
    "# * КОЛ-ВО СИМВОЛОВ В ТЕКСТЕ БЕЗ УЧЁТА ЗНАКОВ ПРЕПИНАНИЯ БЕБЕБЕ И МБ ПРОБЕЛОВ?????? тутуту\n",
    "\n",
    "# ФУНКЦИЯ ДЛЯ ВЫСЧИТЫВАНИЯ ВСЯКИХ СТАТИСТИЧЕСКИХ ПРИБЛУД. В ОТДЕЛЬНОМ ФААААЙЛКИЕ"
   ]
  },
  {
   "cell_type": "markdown",
   "metadata": {},
   "source": [
    "# Библиотеки и CUDA"
   ]
  },
  {
   "cell_type": "code",
   "execution_count": 2,
   "metadata": {},
   "outputs": [
    {
     "name": "stdout",
     "output_type": "stream",
     "text": [
      "False\n"
     ]
    }
   ],
   "source": [
    "import torch\n",
    "print(torch.cuda.is_available())"
   ]
  },
  {
   "cell_type": "code",
   "execution_count": 3,
   "metadata": {},
   "outputs": [],
   "source": [
    "import warnings\n",
    "warnings.filterwarnings('ignore')"
   ]
  },
  {
   "cell_type": "code",
   "execution_count": 4,
   "metadata": {},
   "outputs": [],
   "source": [
    "from datasets import load_dataset"
   ]
  },
  {
   "cell_type": "code",
   "execution_count": 7,
   "metadata": {},
   "outputs": [],
   "source": [
    "import pandas as pd\n",
    "import librosa\n",
    "import matplotlib.pyplot as plt\n",
    "%matplotlib inline\n",
    "import seaborn as sns\n",
    "from tqdm import tqdm"
   ]
  },
  {
   "cell_type": "markdown",
   "metadata": {},
   "source": [
    "# Модуль А. Анализ и предобработка данных "
   ]
  },
  {
   "cell_type": "markdown",
   "metadata": {},
   "source": [
    "## Структура исходных данных"
   ]
  },
  {
   "cell_type": "markdown",
   "metadata": {},
   "source": [
    "*Исходные данные состоят из \"***.csv\" файла и аудиофайлов в формате \".wav\".*\n",
    "\n",
    "* В файле \"***.csv\" какие-то колонки, в них хранятся текст, название аудиофайла с соответствующим содержанием (индексация; в аудиофайле содержится произношение текста из таблицы)\n",
    "\n",
    "* Файлы \".wav\" - аудиофайлы, соответствующие текстам из .csv"
   ]
  },
  {
   "cell_type": "markdown",
   "metadata": {},
   "source": [
    "____"
   ]
  },
  {
   "cell_type": "markdown",
   "metadata": {},
   "source": [
    "** пс: датасет LJSpeech-1.1 сюда втсавлен чтобы посомтреть как с файлами работать, по факту потом будет дуругоййй"
   ]
  },
  {
   "cell_type": "code",
   "execution_count": 8,
   "metadata": {},
   "outputs": [
    {
     "data": {
      "text/html": [
       "<div>\n",
       "<style scoped>\n",
       "    .dataframe tbody tr th:only-of-type {\n",
       "        vertical-align: middle;\n",
       "    }\n",
       "\n",
       "    .dataframe tbody tr th {\n",
       "        vertical-align: top;\n",
       "    }\n",
       "\n",
       "    .dataframe thead th {\n",
       "        text-align: right;\n",
       "    }\n",
       "</style>\n",
       "<table border=\"1\" class=\"dataframe\">\n",
       "  <thead>\n",
       "    <tr style=\"text-align: right;\">\n",
       "      <th></th>\n",
       "      <th>0</th>\n",
       "      <th>1</th>\n",
       "      <th>2</th>\n",
       "    </tr>\n",
       "  </thead>\n",
       "  <tbody>\n",
       "    <tr>\n",
       "      <th>0</th>\n",
       "      <td>LJ001-0001</td>\n",
       "      <td>Printing, in the only sense with which we are ...</td>\n",
       "      <td>Printing, in the only sense with which we are ...</td>\n",
       "    </tr>\n",
       "    <tr>\n",
       "      <th>1</th>\n",
       "      <td>LJ001-0002</td>\n",
       "      <td>in being comparatively modern.</td>\n",
       "      <td>in being comparatively modern.</td>\n",
       "    </tr>\n",
       "    <tr>\n",
       "      <th>2</th>\n",
       "      <td>LJ001-0003</td>\n",
       "      <td>For although the Chinese took impressions from...</td>\n",
       "      <td>For although the Chinese took impressions from...</td>\n",
       "    </tr>\n",
       "    <tr>\n",
       "      <th>3</th>\n",
       "      <td>LJ001-0004</td>\n",
       "      <td>produced the block books, which were the immed...</td>\n",
       "      <td>produced the block books, which were the immed...</td>\n",
       "    </tr>\n",
       "    <tr>\n",
       "      <th>4</th>\n",
       "      <td>LJ001-0005</td>\n",
       "      <td>the invention of movable metal letters in the ...</td>\n",
       "      <td>the invention of movable metal letters in the ...</td>\n",
       "    </tr>\n",
       "    <tr>\n",
       "      <th>...</th>\n",
       "      <td>...</td>\n",
       "      <td>...</td>\n",
       "      <td>...</td>\n",
       "    </tr>\n",
       "    <tr>\n",
       "      <th>13095</th>\n",
       "      <td>LJ050-0274</td>\n",
       "      <td>made certain recommendations which it believes...</td>\n",
       "      <td>made certain recommendations which it believes...</td>\n",
       "    </tr>\n",
       "    <tr>\n",
       "      <th>13096</th>\n",
       "      <td>LJ050-0275</td>\n",
       "      <td>materially improve upon the procedures in effe...</td>\n",
       "      <td>materially improve upon the procedures in effe...</td>\n",
       "    </tr>\n",
       "    <tr>\n",
       "      <th>13097</th>\n",
       "      <td>LJ050-0276</td>\n",
       "      <td>As has been pointed out, the Commission has no...</td>\n",
       "      <td>As has been pointed out, the Commission has no...</td>\n",
       "    </tr>\n",
       "    <tr>\n",
       "      <th>13098</th>\n",
       "      <td>LJ050-0277</td>\n",
       "      <td>with the active cooperation of the responsible...</td>\n",
       "      <td>with the active cooperation of the responsible...</td>\n",
       "    </tr>\n",
       "    <tr>\n",
       "      <th>13099</th>\n",
       "      <td>LJ050-0278</td>\n",
       "      <td>the recommendations we have here suggested wou...</td>\n",
       "      <td>the recommendations we have here suggested wou...</td>\n",
       "    </tr>\n",
       "  </tbody>\n",
       "</table>\n",
       "<p>13100 rows × 3 columns</p>\n",
       "</div>"
      ],
      "text/plain": [
       "                0                                                  1  \\\n",
       "0      LJ001-0001  Printing, in the only sense with which we are ...   \n",
       "1      LJ001-0002                     in being comparatively modern.   \n",
       "2      LJ001-0003  For although the Chinese took impressions from...   \n",
       "3      LJ001-0004  produced the block books, which were the immed...   \n",
       "4      LJ001-0005  the invention of movable metal letters in the ...   \n",
       "...           ...                                                ...   \n",
       "13095  LJ050-0274  made certain recommendations which it believes...   \n",
       "13096  LJ050-0275  materially improve upon the procedures in effe...   \n",
       "13097  LJ050-0276  As has been pointed out, the Commission has no...   \n",
       "13098  LJ050-0277  with the active cooperation of the responsible...   \n",
       "13099  LJ050-0278  the recommendations we have here suggested wou...   \n",
       "\n",
       "                                                       2  \n",
       "0      Printing, in the only sense with which we are ...  \n",
       "1                         in being comparatively modern.  \n",
       "2      For although the Chinese took impressions from...  \n",
       "3      produced the block books, which were the immed...  \n",
       "4      the invention of movable metal letters in the ...  \n",
       "...                                                  ...  \n",
       "13095  made certain recommendations which it believes...  \n",
       "13096  materially improve upon the procedures in effe...  \n",
       "13097  As has been pointed out, the Commission has no...  \n",
       "13098  with the active cooperation of the responsible...  \n",
       "13099  the recommendations we have here suggested wou...  \n",
       "\n",
       "[13100 rows x 3 columns]"
      ]
     },
     "execution_count": 8,
     "metadata": {},
     "output_type": "execute_result"
    }
   ],
   "source": [
    "df_ljs = pd.read_csv(r'..\\old\\Module_A\\LJSpeech-1.1\\metadata.csv', sep = '|', header = None) # читаем файд csv\n",
    "df_ljs # выводим"
   ]
  },
  {
   "cell_type": "code",
   "execution_count": 9,
   "metadata": {},
   "outputs": [],
   "source": [
    "df_ljs.columns = ['filename', 'text1', 'text2'] "
   ]
  },
  {
   "cell_type": "code",
   "execution_count": 10,
   "metadata": {},
   "outputs": [
    {
     "data": {
      "text/html": [
       "<div>\n",
       "<style scoped>\n",
       "    .dataframe tbody tr th:only-of-type {\n",
       "        vertical-align: middle;\n",
       "    }\n",
       "\n",
       "    .dataframe tbody tr th {\n",
       "        vertical-align: top;\n",
       "    }\n",
       "\n",
       "    .dataframe thead th {\n",
       "        text-align: right;\n",
       "    }\n",
       "</style>\n",
       "<table border=\"1\" class=\"dataframe\">\n",
       "  <thead>\n",
       "    <tr style=\"text-align: right;\">\n",
       "      <th></th>\n",
       "      <th>filename</th>\n",
       "      <th>text1</th>\n",
       "      <th>text2</th>\n",
       "    </tr>\n",
       "  </thead>\n",
       "  <tbody>\n",
       "    <tr>\n",
       "      <th>0</th>\n",
       "      <td>LJ001-0001</td>\n",
       "      <td>Printing, in the only sense with which we are ...</td>\n",
       "      <td>Printing, in the only sense with which we are ...</td>\n",
       "    </tr>\n",
       "    <tr>\n",
       "      <th>1</th>\n",
       "      <td>LJ001-0002</td>\n",
       "      <td>in being comparatively modern.</td>\n",
       "      <td>in being comparatively modern.</td>\n",
       "    </tr>\n",
       "    <tr>\n",
       "      <th>2</th>\n",
       "      <td>LJ001-0003</td>\n",
       "      <td>For although the Chinese took impressions from...</td>\n",
       "      <td>For although the Chinese took impressions from...</td>\n",
       "    </tr>\n",
       "    <tr>\n",
       "      <th>3</th>\n",
       "      <td>LJ001-0004</td>\n",
       "      <td>produced the block books, which were the immed...</td>\n",
       "      <td>produced the block books, which were the immed...</td>\n",
       "    </tr>\n",
       "    <tr>\n",
       "      <th>4</th>\n",
       "      <td>LJ001-0005</td>\n",
       "      <td>the invention of movable metal letters in the ...</td>\n",
       "      <td>the invention of movable metal letters in the ...</td>\n",
       "    </tr>\n",
       "    <tr>\n",
       "      <th>...</th>\n",
       "      <td>...</td>\n",
       "      <td>...</td>\n",
       "      <td>...</td>\n",
       "    </tr>\n",
       "    <tr>\n",
       "      <th>13095</th>\n",
       "      <td>LJ050-0274</td>\n",
       "      <td>made certain recommendations which it believes...</td>\n",
       "      <td>made certain recommendations which it believes...</td>\n",
       "    </tr>\n",
       "    <tr>\n",
       "      <th>13096</th>\n",
       "      <td>LJ050-0275</td>\n",
       "      <td>materially improve upon the procedures in effe...</td>\n",
       "      <td>materially improve upon the procedures in effe...</td>\n",
       "    </tr>\n",
       "    <tr>\n",
       "      <th>13097</th>\n",
       "      <td>LJ050-0276</td>\n",
       "      <td>As has been pointed out, the Commission has no...</td>\n",
       "      <td>As has been pointed out, the Commission has no...</td>\n",
       "    </tr>\n",
       "    <tr>\n",
       "      <th>13098</th>\n",
       "      <td>LJ050-0277</td>\n",
       "      <td>with the active cooperation of the responsible...</td>\n",
       "      <td>with the active cooperation of the responsible...</td>\n",
       "    </tr>\n",
       "    <tr>\n",
       "      <th>13099</th>\n",
       "      <td>LJ050-0278</td>\n",
       "      <td>the recommendations we have here suggested wou...</td>\n",
       "      <td>the recommendations we have here suggested wou...</td>\n",
       "    </tr>\n",
       "  </tbody>\n",
       "</table>\n",
       "<p>13100 rows × 3 columns</p>\n",
       "</div>"
      ],
      "text/plain": [
       "         filename                                              text1  \\\n",
       "0      LJ001-0001  Printing, in the only sense with which we are ...   \n",
       "1      LJ001-0002                     in being comparatively modern.   \n",
       "2      LJ001-0003  For although the Chinese took impressions from...   \n",
       "3      LJ001-0004  produced the block books, which were the immed...   \n",
       "4      LJ001-0005  the invention of movable metal letters in the ...   \n",
       "...           ...                                                ...   \n",
       "13095  LJ050-0274  made certain recommendations which it believes...   \n",
       "13096  LJ050-0275  materially improve upon the procedures in effe...   \n",
       "13097  LJ050-0276  As has been pointed out, the Commission has no...   \n",
       "13098  LJ050-0277  with the active cooperation of the responsible...   \n",
       "13099  LJ050-0278  the recommendations we have here suggested wou...   \n",
       "\n",
       "                                                   text2  \n",
       "0      Printing, in the only sense with which we are ...  \n",
       "1                         in being comparatively modern.  \n",
       "2      For although the Chinese took impressions from...  \n",
       "3      produced the block books, which were the immed...  \n",
       "4      the invention of movable metal letters in the ...  \n",
       "...                                                  ...  \n",
       "13095  made certain recommendations which it believes...  \n",
       "13096  materially improve upon the procedures in effe...  \n",
       "13097  As has been pointed out, the Commission has no...  \n",
       "13098  with the active cooperation of the responsible...  \n",
       "13099  the recommendations we have here suggested wou...  \n",
       "\n",
       "[13100 rows x 3 columns]"
      ]
     },
     "execution_count": 10,
     "metadata": {},
     "output_type": "execute_result"
    }
   ],
   "source": [
    "df_ljs"
   ]
  },
  {
   "cell_type": "markdown",
   "metadata": {},
   "source": [
    "* три колонки: название файлы; текст с циферками; текст где циферки словами напсианы"
   ]
  },
  {
   "cell_type": "code",
   "execution_count": 11,
   "metadata": {},
   "outputs": [],
   "source": [
    "ds = load_dataset('bond005/sberdevices_golos_10h_crowd', cache_dir = r'..\\old\\Module_A\\data_sber')"
   ]
  },
  {
   "cell_type": "code",
   "execution_count": 12,
   "metadata": {},
   "outputs": [
    {
     "data": {
      "text/plain": [
       "DatasetDict({\n",
       "    train: Dataset({\n",
       "        features: ['audio', 'transcription'],\n",
       "        num_rows: 7993\n",
       "    })\n",
       "    validation: Dataset({\n",
       "        features: ['audio', 'transcription'],\n",
       "        num_rows: 793\n",
       "    })\n",
       "    test: Dataset({\n",
       "        features: ['audio', 'transcription'],\n",
       "        num_rows: 9994\n",
       "    })\n",
       "})"
      ]
     },
     "execution_count": 12,
     "metadata": {},
     "output_type": "execute_result"
    }
   ],
   "source": [
    "ds"
   ]
  },
  {
   "cell_type": "markdown",
   "metadata": {},
   "source": [
    "в датасете ds звук уже закодирован бе ме"
   ]
  },
  {
   "cell_type": "code",
   "execution_count": 13,
   "metadata": {},
   "outputs": [],
   "source": [
    "dfs = pd.DataFrame(columns = ['audio', 'text'])"
   ]
  },
  {
   "cell_type": "code",
   "execution_count": 14,
   "metadata": {},
   "outputs": [
    {
     "name": "stdout",
     "output_type": "stream",
     "text": [
      "заказать яблоки зеленые\n"
     ]
    }
   ],
   "source": [
    "print(ds['test'][2]['transcription'])"
   ]
  },
  {
   "cell_type": "code",
   "execution_count": 15,
   "metadata": {},
   "outputs": [
    {
     "name": "stderr",
     "output_type": "stream",
     "text": [
      "Прогресс..: 100%|██████████| 7993/7993 [00:24<00:00, 319.93sample/s]\n"
     ]
    }
   ],
   "source": [
    "auds = []\n",
    "txt = []\n",
    "count_word = []\n",
    "\n",
    "for i in tqdm(range(len(ds['train'])), desc = 'Прогресс..', unit = 'sample'):\n",
    "        auds.append((ds['train'][i]['audio']['array']))\n",
    "        t = ds['train'][i]['transcription']\n",
    "        txt.append(t)\n",
    "        count_word.append(len(t.split()))"
   ]
  },
  {
   "cell_type": "code",
   "execution_count": 16,
   "metadata": {},
   "outputs": [],
   "source": [
    "dfs['audio'] = auds\n",
    "dfs['text'] = txt\n",
    "dfs['count_words'] = count_word"
   ]
  },
  {
   "cell_type": "code",
   "execution_count": 17,
   "metadata": {},
   "outputs": [
    {
     "data": {
      "text/html": [
       "<div>\n",
       "<style scoped>\n",
       "    .dataframe tbody tr th:only-of-type {\n",
       "        vertical-align: middle;\n",
       "    }\n",
       "\n",
       "    .dataframe tbody tr th {\n",
       "        vertical-align: top;\n",
       "    }\n",
       "\n",
       "    .dataframe thead th {\n",
       "        text-align: right;\n",
       "    }\n",
       "</style>\n",
       "<table border=\"1\" class=\"dataframe\">\n",
       "  <thead>\n",
       "    <tr style=\"text-align: right;\">\n",
       "      <th></th>\n",
       "      <th>audio</th>\n",
       "      <th>text</th>\n",
       "      <th>count_words</th>\n",
       "    </tr>\n",
       "  </thead>\n",
       "  <tbody>\n",
       "    <tr>\n",
       "      <th>0</th>\n",
       "      <td>[3.0517578125e-05, 3.0517578125e-05, 0.0, 0.0,...</td>\n",
       "      <td>шестнадцатая часть сезона пять сериала лемони ...</td>\n",
       "      <td>10</td>\n",
       "    </tr>\n",
       "    <tr>\n",
       "      <th>1</th>\n",
       "      <td>[-3.0517578125e-05, 0.0, 0.0, -3.0517578125e-0...</td>\n",
       "      <td>три ангела на смотрешке</td>\n",
       "      <td>4</td>\n",
       "    </tr>\n",
       "    <tr>\n",
       "      <th>2</th>\n",
       "      <td>[0.0, 0.0, 0.0, 0.0, 3.0517578125e-05, 3.05175...</td>\n",
       "      <td>цветущая парочка цветущие влюбленные восьмой с...</td>\n",
       "      <td>6</td>\n",
       "    </tr>\n",
       "    <tr>\n",
       "      <th>3</th>\n",
       "      <td>[3.0517578125e-05, 0.0, 0.0, 0.0, -3.051757812...</td>\n",
       "      <td>афина алиса скажи баланс карты сбербанк</td>\n",
       "      <td>6</td>\n",
       "    </tr>\n",
       "    <tr>\n",
       "      <th>4</th>\n",
       "      <td>[0.0098876953125, 0.010498046875, 0.0075073242...</td>\n",
       "      <td>фильмец стэнли кубрика борджиа</td>\n",
       "      <td>4</td>\n",
       "    </tr>\n",
       "    <tr>\n",
       "      <th>...</th>\n",
       "      <td>...</td>\n",
       "      <td>...</td>\n",
       "      <td>...</td>\n",
       "    </tr>\n",
       "    <tr>\n",
       "      <th>7988</th>\n",
       "      <td>[0.0, 3.0517578125e-05, 3.0517578125e-05, 3.05...</td>\n",
       "      <td>найти кино пастырь</td>\n",
       "      <td>3</td>\n",
       "    </tr>\n",
       "    <tr>\n",
       "      <th>7989</th>\n",
       "      <td>[0.0, 0.0, 0.0, 0.0, 0.0, 0.0, 0.0, 0.0, 0.0, ...</td>\n",
       "      <td>какие музыканты играют в клубах</td>\n",
       "      <td>5</td>\n",
       "    </tr>\n",
       "    <tr>\n",
       "      <th>7990</th>\n",
       "      <td>[0.0, 0.0, 0.0, 0.0, 0.0, 0.0, 0.0, 0.0, 0.0, ...</td>\n",
       "      <td>джой включи килла инстинкт</td>\n",
       "      <td>4</td>\n",
       "    </tr>\n",
       "    <tr>\n",
       "      <th>7991</th>\n",
       "      <td>[0.0, 0.0, 0.0, 0.0, 0.0, 0.0, 0.0, 0.0, 0.0, ...</td>\n",
       "      <td>канал ювелирочка смотреть передачи включи</td>\n",
       "      <td>5</td>\n",
       "    </tr>\n",
       "    <tr>\n",
       "      <th>7992</th>\n",
       "      <td>[-3.0517578125e-05, 0.0, -3.0517578125e-05, -3...</td>\n",
       "      <td>ищи запись футбольного матча между лестером и ...</td>\n",
       "      <td>9</td>\n",
       "    </tr>\n",
       "  </tbody>\n",
       "</table>\n",
       "<p>7993 rows × 3 columns</p>\n",
       "</div>"
      ],
      "text/plain": [
       "                                                  audio  \\\n",
       "0     [3.0517578125e-05, 3.0517578125e-05, 0.0, 0.0,...   \n",
       "1     [-3.0517578125e-05, 0.0, 0.0, -3.0517578125e-0...   \n",
       "2     [0.0, 0.0, 0.0, 0.0, 3.0517578125e-05, 3.05175...   \n",
       "3     [3.0517578125e-05, 0.0, 0.0, 0.0, -3.051757812...   \n",
       "4     [0.0098876953125, 0.010498046875, 0.0075073242...   \n",
       "...                                                 ...   \n",
       "7988  [0.0, 3.0517578125e-05, 3.0517578125e-05, 3.05...   \n",
       "7989  [0.0, 0.0, 0.0, 0.0, 0.0, 0.0, 0.0, 0.0, 0.0, ...   \n",
       "7990  [0.0, 0.0, 0.0, 0.0, 0.0, 0.0, 0.0, 0.0, 0.0, ...   \n",
       "7991  [0.0, 0.0, 0.0, 0.0, 0.0, 0.0, 0.0, 0.0, 0.0, ...   \n",
       "7992  [-3.0517578125e-05, 0.0, -3.0517578125e-05, -3...   \n",
       "\n",
       "                                                   text  count_words  \n",
       "0     шестнадцатая часть сезона пять сериала лемони ...           10  \n",
       "1                               три ангела на смотрешке            4  \n",
       "2     цветущая парочка цветущие влюбленные восьмой с...            6  \n",
       "3               афина алиса скажи баланс карты сбербанк            6  \n",
       "4                        фильмец стэнли кубрика борджиа            4  \n",
       "...                                                 ...          ...  \n",
       "7988                                 найти кино пастырь            3  \n",
       "7989                    какие музыканты играют в клубах            5  \n",
       "7990                         джой включи килла инстинкт            4  \n",
       "7991          канал ювелирочка смотреть передачи включи            5  \n",
       "7992  ищи запись футбольного матча между лестером и ...            9  \n",
       "\n",
       "[7993 rows x 3 columns]"
      ]
     },
     "execution_count": 17,
     "metadata": {},
     "output_type": "execute_result"
    }
   ],
   "source": [
    "dfs"
   ]
  },
  {
   "cell_type": "markdown",
   "metadata": {},
   "source": [
    "____"
   ]
  },
  {
   "cell_type": "markdown",
   "metadata": {},
   "source": [
    "## Кодирование аудиофайлов"
   ]
  },
  {
   "cell_type": "markdown",
   "metadata": {},
   "source": [
    "Для программного анализа я сразу закодирую аудиофайлы и сделаю под них отдельную колонку. Так же я сразу буду добавлять к данным частоту дискретизации аудио и длительность аудиофайлов.\n",
    "\n",
    "* Закодированный звук будет храниться в виже numpy массивов"
   ]
  },
  {
   "cell_type": "code",
   "execution_count": 18,
   "metadata": {},
   "outputs": [],
   "source": [
    "aud_array = []\n",
    "srs = []\n",
    "duractions = []\n",
    "\n",
    "\n",
    "for i in range(len(df_ljs)):\n",
    "    audiofile_path = f'../old/Module_A/LJSpeech-1.1/wavs/{df_ljs[\"filename\"].iloc[i]}.wav'\n",
    "    audio_array, sr = librosa.load(audiofile_path, sr = None)\n",
    "    duraction = librosa.get_duration(y = audio_array, sr = sr)\n",
    "    duractions.append(duraction)\n",
    "    aud_array.append(audio_array)\n",
    "    srs.append(sr)"
   ]
  },
  {
   "cell_type": "code",
   "execution_count": 19,
   "metadata": {},
   "outputs": [],
   "source": [
    "df_ljs['duraction'] = duractions\n",
    "df_ljs['sampling_rate'] = srs\n",
    "df_ljs['array'] = aud_array"
   ]
  },
  {
   "cell_type": "code",
   "execution_count": 20,
   "metadata": {},
   "outputs": [
    {
     "data": {
      "text/html": [
       "<div>\n",
       "<style scoped>\n",
       "    .dataframe tbody tr th:only-of-type {\n",
       "        vertical-align: middle;\n",
       "    }\n",
       "\n",
       "    .dataframe tbody tr th {\n",
       "        vertical-align: top;\n",
       "    }\n",
       "\n",
       "    .dataframe thead th {\n",
       "        text-align: right;\n",
       "    }\n",
       "</style>\n",
       "<table border=\"1\" class=\"dataframe\">\n",
       "  <thead>\n",
       "    <tr style=\"text-align: right;\">\n",
       "      <th></th>\n",
       "      <th>filename</th>\n",
       "      <th>text1</th>\n",
       "      <th>text2</th>\n",
       "      <th>duraction</th>\n",
       "      <th>sampling_rate</th>\n",
       "      <th>array</th>\n",
       "    </tr>\n",
       "  </thead>\n",
       "  <tbody>\n",
       "    <tr>\n",
       "      <th>0</th>\n",
       "      <td>LJ001-0001</td>\n",
       "      <td>Printing, in the only sense with which we are ...</td>\n",
       "      <td>Printing, in the only sense with which we are ...</td>\n",
       "      <td>9.655011</td>\n",
       "      <td>22050</td>\n",
       "      <td>[-0.0007324219, -0.00076293945, -0.00064086914...</td>\n",
       "    </tr>\n",
       "    <tr>\n",
       "      <th>1</th>\n",
       "      <td>LJ001-0002</td>\n",
       "      <td>in being comparatively modern.</td>\n",
       "      <td>in being comparatively modern.</td>\n",
       "      <td>1.899546</td>\n",
       "      <td>22050</td>\n",
       "      <td>[-0.0002746582, 0.0, 0.0, -9.1552734e-05, -0.0...</td>\n",
       "    </tr>\n",
       "    <tr>\n",
       "      <th>2</th>\n",
       "      <td>LJ001-0003</td>\n",
       "      <td>For although the Chinese took impressions from...</td>\n",
       "      <td>For although the Chinese took impressions from...</td>\n",
       "      <td>9.666621</td>\n",
       "      <td>22050</td>\n",
       "      <td>[-0.0024719238, -0.0037231445, 0.00045776367, ...</td>\n",
       "    </tr>\n",
       "    <tr>\n",
       "      <th>3</th>\n",
       "      <td>LJ001-0004</td>\n",
       "      <td>produced the block books, which were the immed...</td>\n",
       "      <td>produced the block books, which were the immed...</td>\n",
       "      <td>5.138730</td>\n",
       "      <td>22050</td>\n",
       "      <td>[0.00024414062, 0.0, -0.00018310547, -0.000244...</td>\n",
       "    </tr>\n",
       "    <tr>\n",
       "      <th>4</th>\n",
       "      <td>LJ001-0005</td>\n",
       "      <td>the invention of movable metal letters in the ...</td>\n",
       "      <td>the invention of movable metal letters in the ...</td>\n",
       "      <td>8.110884</td>\n",
       "      <td>22050</td>\n",
       "      <td>[0.00036621094, 0.00045776367, 0.00036621094, ...</td>\n",
       "    </tr>\n",
       "    <tr>\n",
       "      <th>...</th>\n",
       "      <td>...</td>\n",
       "      <td>...</td>\n",
       "      <td>...</td>\n",
       "      <td>...</td>\n",
       "      <td>...</td>\n",
       "      <td>...</td>\n",
       "    </tr>\n",
       "    <tr>\n",
       "      <th>13095</th>\n",
       "      <td>LJ050-0274</td>\n",
       "      <td>made certain recommendations which it believes...</td>\n",
       "      <td>made certain recommendations which it believes...</td>\n",
       "      <td>4.500181</td>\n",
       "      <td>22050</td>\n",
       "      <td>[-0.00018310547, -0.00024414062, -0.0002441406...</td>\n",
       "    </tr>\n",
       "    <tr>\n",
       "      <th>13096</th>\n",
       "      <td>LJ050-0275</td>\n",
       "      <td>materially improve upon the procedures in effe...</td>\n",
       "      <td>materially improve upon the procedures in effe...</td>\n",
       "      <td>9.120952</td>\n",
       "      <td>22050</td>\n",
       "      <td>[9.1552734e-05, 0.0002746582, 0.00018310547, 0...</td>\n",
       "    </tr>\n",
       "    <tr>\n",
       "      <th>13097</th>\n",
       "      <td>LJ050-0276</td>\n",
       "      <td>As has been pointed out, the Commission has no...</td>\n",
       "      <td>As has been pointed out, the Commission has no...</td>\n",
       "      <td>8.563673</td>\n",
       "      <td>22050</td>\n",
       "      <td>[0.0006713867, 0.0007324219, 0.0008544922, 0.0...</td>\n",
       "    </tr>\n",
       "    <tr>\n",
       "      <th>13098</th>\n",
       "      <td>LJ050-0277</td>\n",
       "      <td>with the active cooperation of the responsible...</td>\n",
       "      <td>with the active cooperation of the responsible...</td>\n",
       "      <td>8.714603</td>\n",
       "      <td>22050</td>\n",
       "      <td>[-0.0005493164, -0.0007019043, -0.0006713867, ...</td>\n",
       "    </tr>\n",
       "    <tr>\n",
       "      <th>13099</th>\n",
       "      <td>LJ050-0278</td>\n",
       "      <td>the recommendations we have here suggested wou...</td>\n",
       "      <td>the recommendations we have here suggested wou...</td>\n",
       "      <td>8.923583</td>\n",
       "      <td>22050</td>\n",
       "      <td>[6.1035156e-05, 6.1035156e-05, 0.00015258789, ...</td>\n",
       "    </tr>\n",
       "  </tbody>\n",
       "</table>\n",
       "<p>13100 rows × 6 columns</p>\n",
       "</div>"
      ],
      "text/plain": [
       "         filename                                              text1  \\\n",
       "0      LJ001-0001  Printing, in the only sense with which we are ...   \n",
       "1      LJ001-0002                     in being comparatively modern.   \n",
       "2      LJ001-0003  For although the Chinese took impressions from...   \n",
       "3      LJ001-0004  produced the block books, which were the immed...   \n",
       "4      LJ001-0005  the invention of movable metal letters in the ...   \n",
       "...           ...                                                ...   \n",
       "13095  LJ050-0274  made certain recommendations which it believes...   \n",
       "13096  LJ050-0275  materially improve upon the procedures in effe...   \n",
       "13097  LJ050-0276  As has been pointed out, the Commission has no...   \n",
       "13098  LJ050-0277  with the active cooperation of the responsible...   \n",
       "13099  LJ050-0278  the recommendations we have here suggested wou...   \n",
       "\n",
       "                                                   text2  duraction  \\\n",
       "0      Printing, in the only sense with which we are ...   9.655011   \n",
       "1                         in being comparatively modern.   1.899546   \n",
       "2      For although the Chinese took impressions from...   9.666621   \n",
       "3      produced the block books, which were the immed...   5.138730   \n",
       "4      the invention of movable metal letters in the ...   8.110884   \n",
       "...                                                  ...        ...   \n",
       "13095  made certain recommendations which it believes...   4.500181   \n",
       "13096  materially improve upon the procedures in effe...   9.120952   \n",
       "13097  As has been pointed out, the Commission has no...   8.563673   \n",
       "13098  with the active cooperation of the responsible...   8.714603   \n",
       "13099  the recommendations we have here suggested wou...   8.923583   \n",
       "\n",
       "       sampling_rate                                              array  \n",
       "0              22050  [-0.0007324219, -0.00076293945, -0.00064086914...  \n",
       "1              22050  [-0.0002746582, 0.0, 0.0, -9.1552734e-05, -0.0...  \n",
       "2              22050  [-0.0024719238, -0.0037231445, 0.00045776367, ...  \n",
       "3              22050  [0.00024414062, 0.0, -0.00018310547, -0.000244...  \n",
       "4              22050  [0.00036621094, 0.00045776367, 0.00036621094, ...  \n",
       "...              ...                                                ...  \n",
       "13095          22050  [-0.00018310547, -0.00024414062, -0.0002441406...  \n",
       "13096          22050  [9.1552734e-05, 0.0002746582, 0.00018310547, 0...  \n",
       "13097          22050  [0.0006713867, 0.0007324219, 0.0008544922, 0.0...  \n",
       "13098          22050  [-0.0005493164, -0.0007019043, -0.0006713867, ...  \n",
       "13099          22050  [6.1035156e-05, 6.1035156e-05, 0.00015258789, ...  \n",
       "\n",
       "[13100 rows x 6 columns]"
      ]
     },
     "execution_count": 20,
     "metadata": {},
     "output_type": "execute_result"
    }
   ],
   "source": [
    "df_ljs"
   ]
  },
  {
   "cell_type": "markdown",
   "metadata": {},
   "source": [
    "_____"
   ]
  },
  {
   "cell_type": "markdown",
   "metadata": {},
   "source": [
    "## Математический анализ данных"
   ]
  },
  {
   "cell_type": "markdown",
   "metadata": {},
   "source": [
    "* Сначала проанализируем текст (???)"
   ]
  },
  {
   "cell_type": "code",
   "execution_count": 21,
   "metadata": {},
   "outputs": [
    {
     "data": {
      "text/plain": [
       "count    7993.000000\n",
       "mean        4.962217\n",
       "std         2.723737\n",
       "min         1.000000\n",
       "25%         3.000000\n",
       "50%         5.000000\n",
       "75%         7.000000\n",
       "max        26.000000\n",
       "Name: count_words, dtype: float64"
      ]
     },
     "execution_count": 21,
     "metadata": {},
     "output_type": "execute_result"
    }
   ],
   "source": [
    "dfs['count_words'].describe()"
   ]
  },
  {
   "cell_type": "markdown",
   "metadata": {},
   "source": [
    "Среднее количество слов - 4.96 (~5)\n",
    "\n",
    "Минимальное количество слов - 1, максимальное - 26 "
   ]
  },
  {
   "cell_type": "markdown",
   "metadata": {},
   "source": [
    "* Визуализируем распределение значений:"
   ]
  },
  {
   "cell_type": "code",
   "execution_count": null,
   "metadata": {},
   "outputs": [
    {
     "data": {
      "image/png": "[encoded data removed]",
      "text/plain": [
       "<Figure size 800x500 with 1 Axes>"
      ]
     },
     "metadata": {},
     "output_type": "display_data"
    }
   ],
   "source": [
    "plt.figure(figsize=(8, 5))\n",
    "sns.histplot(dfs['count_words'], kde = True, bins = 25, color = 'purple')\n",
    "plt.show()"
   ]
  },
  {
   "cell_type": "code",
   "execution_count": 24,
   "metadata": {},
   "outputs": [
    {
     "data": {
      "image/png": "[encoded data removed]",
      "text/plain": [
       "<Figure size 800x500 with 1 Axes>"
      ]
     },
     "metadata": {},
     "output_type": "display_data"
    }
   ],
   "source": [
    "plt.figure(figsize=(8, 5))\n",
    "sns.barplot(dfs['count_words'].value_counts(), palette = 'Set2')\n",
    "plt.show()"
   ]
  },
  {
   "cell_type": "markdown",
   "metadata": {},
   "source": [
    "* Далее оставляем те данные, где более 2ух слов"
   ]
  },
  {
   "cell_type": "code",
   "execution_count": 25,
   "metadata": {},
   "outputs": [
    {
     "data": {
      "text/html": [
       "<div>\n",
       "<style scoped>\n",
       "    .dataframe tbody tr th:only-of-type {\n",
       "        vertical-align: middle;\n",
       "    }\n",
       "\n",
       "    .dataframe tbody tr th {\n",
       "        vertical-align: top;\n",
       "    }\n",
       "\n",
       "    .dataframe thead th {\n",
       "        text-align: right;\n",
       "    }\n",
       "</style>\n",
       "<table border=\"1\" class=\"dataframe\">\n",
       "  <thead>\n",
       "    <tr style=\"text-align: right;\">\n",
       "      <th></th>\n",
       "      <th>audio</th>\n",
       "      <th>text</th>\n",
       "      <th>count_words</th>\n",
       "    </tr>\n",
       "  </thead>\n",
       "  <tbody>\n",
       "    <tr>\n",
       "      <th>0</th>\n",
       "      <td>[3.0517578125e-05, 3.0517578125e-05, 0.0, 0.0,...</td>\n",
       "      <td>шестнадцатая часть сезона пять сериала лемони ...</td>\n",
       "      <td>10</td>\n",
       "    </tr>\n",
       "    <tr>\n",
       "      <th>1</th>\n",
       "      <td>[-3.0517578125e-05, 0.0, 0.0, -3.0517578125e-0...</td>\n",
       "      <td>три ангела на смотрешке</td>\n",
       "      <td>4</td>\n",
       "    </tr>\n",
       "    <tr>\n",
       "      <th>2</th>\n",
       "      <td>[0.0, 0.0, 0.0, 0.0, 3.0517578125e-05, 3.05175...</td>\n",
       "      <td>цветущая парочка цветущие влюбленные восьмой с...</td>\n",
       "      <td>6</td>\n",
       "    </tr>\n",
       "    <tr>\n",
       "      <th>3</th>\n",
       "      <td>[3.0517578125e-05, 0.0, 0.0, 0.0, -3.051757812...</td>\n",
       "      <td>афина алиса скажи баланс карты сбербанк</td>\n",
       "      <td>6</td>\n",
       "    </tr>\n",
       "    <tr>\n",
       "      <th>4</th>\n",
       "      <td>[0.0098876953125, 0.010498046875, 0.0075073242...</td>\n",
       "      <td>фильмец стэнли кубрика борджиа</td>\n",
       "      <td>4</td>\n",
       "    </tr>\n",
       "    <tr>\n",
       "      <th>...</th>\n",
       "      <td>...</td>\n",
       "      <td>...</td>\n",
       "      <td>...</td>\n",
       "    </tr>\n",
       "    <tr>\n",
       "      <th>7988</th>\n",
       "      <td>[0.0, 3.0517578125e-05, 3.0517578125e-05, 3.05...</td>\n",
       "      <td>найти кино пастырь</td>\n",
       "      <td>3</td>\n",
       "    </tr>\n",
       "    <tr>\n",
       "      <th>7989</th>\n",
       "      <td>[0.0, 0.0, 0.0, 0.0, 0.0, 0.0, 0.0, 0.0, 0.0, ...</td>\n",
       "      <td>какие музыканты играют в клубах</td>\n",
       "      <td>5</td>\n",
       "    </tr>\n",
       "    <tr>\n",
       "      <th>7990</th>\n",
       "      <td>[0.0, 0.0, 0.0, 0.0, 0.0, 0.0, 0.0, 0.0, 0.0, ...</td>\n",
       "      <td>джой включи килла инстинкт</td>\n",
       "      <td>4</td>\n",
       "    </tr>\n",
       "    <tr>\n",
       "      <th>7991</th>\n",
       "      <td>[0.0, 0.0, 0.0, 0.0, 0.0, 0.0, 0.0, 0.0, 0.0, ...</td>\n",
       "      <td>канал ювелирочка смотреть передачи включи</td>\n",
       "      <td>5</td>\n",
       "    </tr>\n",
       "    <tr>\n",
       "      <th>7992</th>\n",
       "      <td>[-3.0517578125e-05, 0.0, -3.0517578125e-05, -3...</td>\n",
       "      <td>ищи запись футбольного матча между лестером и ...</td>\n",
       "      <td>9</td>\n",
       "    </tr>\n",
       "  </tbody>\n",
       "</table>\n",
       "<p>6491 rows × 3 columns</p>\n",
       "</div>"
      ],
      "text/plain": [
       "                                                  audio  \\\n",
       "0     [3.0517578125e-05, 3.0517578125e-05, 0.0, 0.0,...   \n",
       "1     [-3.0517578125e-05, 0.0, 0.0, -3.0517578125e-0...   \n",
       "2     [0.0, 0.0, 0.0, 0.0, 3.0517578125e-05, 3.05175...   \n",
       "3     [3.0517578125e-05, 0.0, 0.0, 0.0, -3.051757812...   \n",
       "4     [0.0098876953125, 0.010498046875, 0.0075073242...   \n",
       "...                                                 ...   \n",
       "7988  [0.0, 3.0517578125e-05, 3.0517578125e-05, 3.05...   \n",
       "7989  [0.0, 0.0, 0.0, 0.0, 0.0, 0.0, 0.0, 0.0, 0.0, ...   \n",
       "7990  [0.0, 0.0, 0.0, 0.0, 0.0, 0.0, 0.0, 0.0, 0.0, ...   \n",
       "7991  [0.0, 0.0, 0.0, 0.0, 0.0, 0.0, 0.0, 0.0, 0.0, ...   \n",
       "7992  [-3.0517578125e-05, 0.0, -3.0517578125e-05, -3...   \n",
       "\n",
       "                                                   text  count_words  \n",
       "0     шестнадцатая часть сезона пять сериала лемони ...           10  \n",
       "1                               три ангела на смотрешке            4  \n",
       "2     цветущая парочка цветущие влюбленные восьмой с...            6  \n",
       "3               афина алиса скажи баланс карты сбербанк            6  \n",
       "4                        фильмец стэнли кубрика борджиа            4  \n",
       "...                                                 ...          ...  \n",
       "7988                                 найти кино пастырь            3  \n",
       "7989                    какие музыканты играют в клубах            5  \n",
       "7990                         джой включи килла инстинкт            4  \n",
       "7991          канал ювелирочка смотреть передачи включи            5  \n",
       "7992  ищи запись футбольного матча между лестером и ...            9  \n",
       "\n",
       "[6491 rows x 3 columns]"
      ]
     },
     "execution_count": 25,
     "metadata": {},
     "output_type": "execute_result"
    }
   ],
   "source": [
    "dfs = dfs[dfs['count_words'] > 2]\n",
    "dfs"
   ]
  },
  {
   "cell_type": "code",
   "execution_count": 33,
   "metadata": {},
   "outputs": [
    {
     "data": {
      "text/plain": [
       "count    6491.000000\n",
       "mean        5.739177\n",
       "std         2.422272\n",
       "min         3.000000\n",
       "25%         4.000000\n",
       "50%         5.000000\n",
       "75%         7.000000\n",
       "max        26.000000\n",
       "Name: count_words, dtype: float64"
      ]
     },
     "execution_count": 33,
     "metadata": {},
     "output_type": "execute_result"
    }
   ],
   "source": [
    "dfs['count_words'].describe()"
   ]
  },
  {
   "cell_type": "markdown",
   "metadata": {},
   "source": [
    "* 5-6 слов в среднем"
   ]
  },
  {
   "cell_type": "markdown",
   "metadata": {},
   "source": [
    "* Смотрим на наибольшие значения в колонке:"
   ]
  },
  {
   "cell_type": "code",
   "execution_count": 37,
   "metadata": {},
   "outputs": [
    {
     "data": {
      "text/plain": [
       "4645    26\n",
       "7059    22\n",
       "2095    21\n",
       "3472    21\n",
       "858     20\n",
       "3827    20\n",
       "7498    20\n",
       "317     19\n",
       "7106    19\n",
       "7422    19\n",
       "7931    19\n",
       "1037    18\n",
       "1442    18\n",
       "1905    18\n",
       "4815    18\n",
       "Name: count_words, dtype: int64"
      ]
     },
     "execution_count": 37,
     "metadata": {},
     "output_type": "execute_result"
    }
   ],
   "source": [
    "dfs['count_words'].nlargest(15)"
   ]
  },
  {
   "cell_type": "markdown",
   "metadata": {},
   "source": [
    "Визуализируем; на графике отражает строки, в которых 15 и больше слов"
   ]
  },
  {
   "cell_type": "code",
   "execution_count": 29,
   "metadata": {},
   "outputs": [
    {
     "data": {
      "image/png": "[encoded data removed]",
      "text/plain": [
       "<Figure size 800x500 with 1 Axes>"
      ]
     },
     "metadata": {},
     "output_type": "display_data"
    }
   ],
   "source": [
    "dfs_max = dfs[dfs['count_words'] > 14]\n",
    "\n",
    "plt.figure(figsize=(8, 5))\n",
    "sns.barplot(dfs_max['count_words'].value_counts(), palette = 'Set2')\n",
    "plt.show()"
   ]
  },
  {
   "cell_type": "code",
   "execution_count": null,
   "metadata": {},
   "outputs": [
    {
     "data": {
      "text/plain": [
       "count_words\n",
       "15    21\n",
       "19     4\n",
       "17     4\n",
       "18     4\n",
       "16     4\n",
       "20     3\n",
       "21     2\n",
       "26     1\n",
       "22     1\n",
       "Name: count, dtype: int64"
      ]
     },
     "execution_count": 32,
     "metadata": {},
     "output_type": "execute_result"
    }
   ],
   "source": [
    "dfs_max['count_words'].value_counts()"
   ]
  },
  {
   "cell_type": "markdown",
   "metadata": {},
   "source": [
    "* Среднее кол-во слов по всему датасету - 5 слов, максимальное - 26. Это не очень большая разница в рамках данной задачи, поэтому я не буду удалять "
   ]
  },
  {
   "cell_type": "markdown",
   "metadata": {},
   "source": []
  },
  {
   "cell_type": "markdown",
   "metadata": {},
   "source": [
    "_______\n"
   ]
  },
  {
   "cell_type": "markdown",
   "metadata": {},
   "source": [
    "## Хз что именно; статистика математика анализ с модульными системами хз юез понятие \n",
    "\n",
    "пс: анализ звука"
   ]
  },
  {
   "cell_type": "code",
   "execution_count": 43,
   "metadata": {},
   "outputs": [
    {
     "data": {
      "text/html": [
       "<div>\n",
       "<style scoped>\n",
       "    .dataframe tbody tr th:only-of-type {\n",
       "        vertical-align: middle;\n",
       "    }\n",
       "\n",
       "    .dataframe tbody tr th {\n",
       "        vertical-align: top;\n",
       "    }\n",
       "\n",
       "    .dataframe thead th {\n",
       "        text-align: right;\n",
       "    }\n",
       "</style>\n",
       "<table border=\"1\" class=\"dataframe\">\n",
       "  <thead>\n",
       "    <tr style=\"text-align: right;\">\n",
       "      <th></th>\n",
       "      <th>audio</th>\n",
       "      <th>text</th>\n",
       "      <th>count_words</th>\n",
       "    </tr>\n",
       "  </thead>\n",
       "  <tbody>\n",
       "    <tr>\n",
       "      <th>0</th>\n",
       "      <td>[3.0517578125e-05, 3.0517578125e-05, 0.0, 0.0,...</td>\n",
       "      <td>шестнадцатая часть сезона пять сериала лемони ...</td>\n",
       "      <td>10</td>\n",
       "    </tr>\n",
       "    <tr>\n",
       "      <th>1</th>\n",
       "      <td>[-3.0517578125e-05, 0.0, 0.0, -3.0517578125e-0...</td>\n",
       "      <td>три ангела на смотрешке</td>\n",
       "      <td>4</td>\n",
       "    </tr>\n",
       "    <tr>\n",
       "      <th>2</th>\n",
       "      <td>[0.0, 0.0, 0.0, 0.0, 3.0517578125e-05, 3.05175...</td>\n",
       "      <td>цветущая парочка цветущие влюбленные восьмой с...</td>\n",
       "      <td>6</td>\n",
       "    </tr>\n",
       "    <tr>\n",
       "      <th>3</th>\n",
       "      <td>[3.0517578125e-05, 0.0, 0.0, 0.0, -3.051757812...</td>\n",
       "      <td>афина алиса скажи баланс карты сбербанк</td>\n",
       "      <td>6</td>\n",
       "    </tr>\n",
       "    <tr>\n",
       "      <th>4</th>\n",
       "      <td>[0.0098876953125, 0.010498046875, 0.0075073242...</td>\n",
       "      <td>фильмец стэнли кубрика борджиа</td>\n",
       "      <td>4</td>\n",
       "    </tr>\n",
       "    <tr>\n",
       "      <th>...</th>\n",
       "      <td>...</td>\n",
       "      <td>...</td>\n",
       "      <td>...</td>\n",
       "    </tr>\n",
       "    <tr>\n",
       "      <th>7988</th>\n",
       "      <td>[0.0, 3.0517578125e-05, 3.0517578125e-05, 3.05...</td>\n",
       "      <td>найти кино пастырь</td>\n",
       "      <td>3</td>\n",
       "    </tr>\n",
       "    <tr>\n",
       "      <th>7989</th>\n",
       "      <td>[0.0, 0.0, 0.0, 0.0, 0.0, 0.0, 0.0, 0.0, 0.0, ...</td>\n",
       "      <td>какие музыканты играют в клубах</td>\n",
       "      <td>5</td>\n",
       "    </tr>\n",
       "    <tr>\n",
       "      <th>7990</th>\n",
       "      <td>[0.0, 0.0, 0.0, 0.0, 0.0, 0.0, 0.0, 0.0, 0.0, ...</td>\n",
       "      <td>джой включи килла инстинкт</td>\n",
       "      <td>4</td>\n",
       "    </tr>\n",
       "    <tr>\n",
       "      <th>7991</th>\n",
       "      <td>[0.0, 0.0, 0.0, 0.0, 0.0, 0.0, 0.0, 0.0, 0.0, ...</td>\n",
       "      <td>канал ювелирочка смотреть передачи включи</td>\n",
       "      <td>5</td>\n",
       "    </tr>\n",
       "    <tr>\n",
       "      <th>7992</th>\n",
       "      <td>[-3.0517578125e-05, 0.0, -3.0517578125e-05, -3...</td>\n",
       "      <td>ищи запись футбольного матча между лестером и ...</td>\n",
       "      <td>9</td>\n",
       "    </tr>\n",
       "  </tbody>\n",
       "</table>\n",
       "<p>6491 rows × 3 columns</p>\n",
       "</div>"
      ],
      "text/plain": [
       "                                                  audio  \\\n",
       "0     [3.0517578125e-05, 3.0517578125e-05, 0.0, 0.0,...   \n",
       "1     [-3.0517578125e-05, 0.0, 0.0, -3.0517578125e-0...   \n",
       "2     [0.0, 0.0, 0.0, 0.0, 3.0517578125e-05, 3.05175...   \n",
       "3     [3.0517578125e-05, 0.0, 0.0, 0.0, -3.051757812...   \n",
       "4     [0.0098876953125, 0.010498046875, 0.0075073242...   \n",
       "...                                                 ...   \n",
       "7988  [0.0, 3.0517578125e-05, 3.0517578125e-05, 3.05...   \n",
       "7989  [0.0, 0.0, 0.0, 0.0, 0.0, 0.0, 0.0, 0.0, 0.0, ...   \n",
       "7990  [0.0, 0.0, 0.0, 0.0, 0.0, 0.0, 0.0, 0.0, 0.0, ...   \n",
       "7991  [0.0, 0.0, 0.0, 0.0, 0.0, 0.0, 0.0, 0.0, 0.0, ...   \n",
       "7992  [-3.0517578125e-05, 0.0, -3.0517578125e-05, -3...   \n",
       "\n",
       "                                                   text  count_words  \n",
       "0     шестнадцатая часть сезона пять сериала лемони ...           10  \n",
       "1                               три ангела на смотрешке            4  \n",
       "2     цветущая парочка цветущие влюбленные восьмой с...            6  \n",
       "3               афина алиса скажи баланс карты сбербанк            6  \n",
       "4                        фильмец стэнли кубрика борджиа            4  \n",
       "...                                                 ...          ...  \n",
       "7988                                 найти кино пастырь            3  \n",
       "7989                    какие музыканты играют в клубах            5  \n",
       "7990                         джой включи килла инстинкт            4  \n",
       "7991          канал ювелирочка смотреть передачи включи            5  \n",
       "7992  ищи запись футбольного матча между лестером и ...            9  \n",
       "\n",
       "[6491 rows x 3 columns]"
      ]
     },
     "execution_count": 43,
     "metadata": {},
     "output_type": "execute_result"
    }
   ],
   "source": [
    "dfs"
   ]
  },
  {
   "cell_type": "markdown",
   "metadata": {},
   "source": [
    "добавляем в дф длительность и частоту дискретизации\n",
    "\n",
    "* частоту дискретизации везде указываем как 16000"
   ]
  },
  {
   "cell_type": "code",
   "execution_count": 45,
   "metadata": {},
   "outputs": [],
   "source": [
    "duractions = [] \n",
    "\n",
    "for i in range(len(dfs)):\n",
    "    duractions.append(librosa.get_duration(y = dfs['audio'].iloc[i], sr = 16000))"
   ]
  },
  {
   "cell_type": "code",
   "execution_count": 47,
   "metadata": {},
   "outputs": [
    {
     "data": {
      "text/html": [
       "<div>\n",
       "<style scoped>\n",
       "    .dataframe tbody tr th:only-of-type {\n",
       "        vertical-align: middle;\n",
       "    }\n",
       "\n",
       "    .dataframe tbody tr th {\n",
       "        vertical-align: top;\n",
       "    }\n",
       "\n",
       "    .dataframe thead th {\n",
       "        text-align: right;\n",
       "    }\n",
       "</style>\n",
       "<table border=\"1\" class=\"dataframe\">\n",
       "  <thead>\n",
       "    <tr style=\"text-align: right;\">\n",
       "      <th></th>\n",
       "      <th>audio</th>\n",
       "      <th>text</th>\n",
       "      <th>count_words</th>\n",
       "      <th>duraction</th>\n",
       "      <th>sr</th>\n",
       "    </tr>\n",
       "  </thead>\n",
       "  <tbody>\n",
       "    <tr>\n",
       "      <th>0</th>\n",
       "      <td>[3.0517578125e-05, 3.0517578125e-05, 0.0, 0.0,...</td>\n",
       "      <td>шестнадцатая часть сезона пять сериала лемони ...</td>\n",
       "      <td>10</td>\n",
       "      <td>5.160000</td>\n",
       "      <td>16000</td>\n",
       "    </tr>\n",
       "    <tr>\n",
       "      <th>1</th>\n",
       "      <td>[-3.0517578125e-05, 0.0, 0.0, -3.0517578125e-0...</td>\n",
       "      <td>три ангела на смотрешке</td>\n",
       "      <td>4</td>\n",
       "      <td>1.820000</td>\n",
       "      <td>16000</td>\n",
       "    </tr>\n",
       "    <tr>\n",
       "      <th>2</th>\n",
       "      <td>[0.0, 0.0, 0.0, 0.0, 3.0517578125e-05, 3.05175...</td>\n",
       "      <td>цветущая парочка цветущие влюбленные восьмой с...</td>\n",
       "      <td>6</td>\n",
       "      <td>4.640000</td>\n",
       "      <td>16000</td>\n",
       "    </tr>\n",
       "    <tr>\n",
       "      <th>3</th>\n",
       "      <td>[3.0517578125e-05, 0.0, 0.0, 0.0, -3.051757812...</td>\n",
       "      <td>афина алиса скажи баланс карты сбербанк</td>\n",
       "      <td>6</td>\n",
       "      <td>4.620375</td>\n",
       "      <td>16000</td>\n",
       "    </tr>\n",
       "    <tr>\n",
       "      <th>4</th>\n",
       "      <td>[0.0098876953125, 0.010498046875, 0.0075073242...</td>\n",
       "      <td>фильмец стэнли кубрика борджиа</td>\n",
       "      <td>4</td>\n",
       "      <td>5.540000</td>\n",
       "      <td>16000</td>\n",
       "    </tr>\n",
       "    <tr>\n",
       "      <th>...</th>\n",
       "      <td>...</td>\n",
       "      <td>...</td>\n",
       "      <td>...</td>\n",
       "      <td>...</td>\n",
       "      <td>...</td>\n",
       "    </tr>\n",
       "    <tr>\n",
       "      <th>7988</th>\n",
       "      <td>[0.0, 3.0517578125e-05, 3.0517578125e-05, 3.05...</td>\n",
       "      <td>найти кино пастырь</td>\n",
       "      <td>3</td>\n",
       "      <td>2.660000</td>\n",
       "      <td>16000</td>\n",
       "    </tr>\n",
       "    <tr>\n",
       "      <th>7989</th>\n",
       "      <td>[0.0, 0.0, 0.0, 0.0, 0.0, 0.0, 0.0, 0.0, 0.0, ...</td>\n",
       "      <td>какие музыканты играют в клубах</td>\n",
       "      <td>5</td>\n",
       "      <td>2.066187</td>\n",
       "      <td>16000</td>\n",
       "    </tr>\n",
       "    <tr>\n",
       "      <th>7990</th>\n",
       "      <td>[0.0, 0.0, 0.0, 0.0, 0.0, 0.0, 0.0, 0.0, 0.0, ...</td>\n",
       "      <td>джой включи килла инстинкт</td>\n",
       "      <td>4</td>\n",
       "      <td>4.272062</td>\n",
       "      <td>16000</td>\n",
       "    </tr>\n",
       "    <tr>\n",
       "      <th>7991</th>\n",
       "      <td>[0.0, 0.0, 0.0, 0.0, 0.0, 0.0, 0.0, 0.0, 0.0, ...</td>\n",
       "      <td>канал ювелирочка смотреть передачи включи</td>\n",
       "      <td>5</td>\n",
       "      <td>4.460000</td>\n",
       "      <td>16000</td>\n",
       "    </tr>\n",
       "    <tr>\n",
       "      <th>7992</th>\n",
       "      <td>[-3.0517578125e-05, 0.0, -3.0517578125e-05, -3...</td>\n",
       "      <td>ищи запись футбольного матча между лестером и ...</td>\n",
       "      <td>9</td>\n",
       "      <td>5.293750</td>\n",
       "      <td>16000</td>\n",
       "    </tr>\n",
       "  </tbody>\n",
       "</table>\n",
       "<p>6491 rows × 5 columns</p>\n",
       "</div>"
      ],
      "text/plain": [
       "                                                  audio  \\\n",
       "0     [3.0517578125e-05, 3.0517578125e-05, 0.0, 0.0,...   \n",
       "1     [-3.0517578125e-05, 0.0, 0.0, -3.0517578125e-0...   \n",
       "2     [0.0, 0.0, 0.0, 0.0, 3.0517578125e-05, 3.05175...   \n",
       "3     [3.0517578125e-05, 0.0, 0.0, 0.0, -3.051757812...   \n",
       "4     [0.0098876953125, 0.010498046875, 0.0075073242...   \n",
       "...                                                 ...   \n",
       "7988  [0.0, 3.0517578125e-05, 3.0517578125e-05, 3.05...   \n",
       "7989  [0.0, 0.0, 0.0, 0.0, 0.0, 0.0, 0.0, 0.0, 0.0, ...   \n",
       "7990  [0.0, 0.0, 0.0, 0.0, 0.0, 0.0, 0.0, 0.0, 0.0, ...   \n",
       "7991  [0.0, 0.0, 0.0, 0.0, 0.0, 0.0, 0.0, 0.0, 0.0, ...   \n",
       "7992  [-3.0517578125e-05, 0.0, -3.0517578125e-05, -3...   \n",
       "\n",
       "                                                   text  count_words  \\\n",
       "0     шестнадцатая часть сезона пять сериала лемони ...           10   \n",
       "1                               три ангела на смотрешке            4   \n",
       "2     цветущая парочка цветущие влюбленные восьмой с...            6   \n",
       "3               афина алиса скажи баланс карты сбербанк            6   \n",
       "4                        фильмец стэнли кубрика борджиа            4   \n",
       "...                                                 ...          ...   \n",
       "7988                                 найти кино пастырь            3   \n",
       "7989                    какие музыканты играют в клубах            5   \n",
       "7990                         джой включи килла инстинкт            4   \n",
       "7991          канал ювелирочка смотреть передачи включи            5   \n",
       "7992  ищи запись футбольного матча между лестером и ...            9   \n",
       "\n",
       "      duraction     sr  \n",
       "0      5.160000  16000  \n",
       "1      1.820000  16000  \n",
       "2      4.640000  16000  \n",
       "3      4.620375  16000  \n",
       "4      5.540000  16000  \n",
       "...         ...    ...  \n",
       "7988   2.660000  16000  \n",
       "7989   2.066187  16000  \n",
       "7990   4.272062  16000  \n",
       "7991   4.460000  16000  \n",
       "7992   5.293750  16000  \n",
       "\n",
       "[6491 rows x 5 columns]"
      ]
     },
     "execution_count": 47,
     "metadata": {},
     "output_type": "execute_result"
    }
   ],
   "source": [
    "dfs['duraction'] = duractions\n",
    "dfs['sr'] = 16000\n",
    "\n",
    "dfs"
   ]
  },
  {
   "cell_type": "code",
   "execution_count": null,
   "metadata": {},
   "outputs": [],
   "source": []
  }
 ],
 "metadata": {
  "kernelspec": {
   "display_name": ".venv",
   "language": "python",
   "name": "python3"
  },
  "language_info": {
   "codemirror_mode": {
    "name": "ipython",
    "version": 3
   },
   "file_extension": ".py",
   "mimetype": "text/x-python",
   "name": "python",
   "nbconvert_exporter": "python",
   "pygments_lexer": "ipython3",
   "version": "3.10.11"
  }
 },
 "nbformat": 4,
 "nbformat_minor": 2
}
